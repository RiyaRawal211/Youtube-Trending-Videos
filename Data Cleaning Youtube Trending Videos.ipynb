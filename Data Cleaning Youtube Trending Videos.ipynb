{
 "cells": [
  {
   "cell_type": "markdown",
   "id": "53f42545-aaef-4263-9bd8-a72ad4012bc6",
   "metadata": {},
   "source": [
    "# DATA CLEANING"
   ]
  },
  {
   "cell_type": "code",
   "execution_count": 2,
   "id": "e0c6490d-d1ab-4bc5-b150-665e59219119",
   "metadata": {},
   "outputs": [],
   "source": [
    "# Importing Library"
   ]
  },
  {
   "cell_type": "code",
   "execution_count": 7,
   "id": "78e1b5a2-23ef-4d82-9abf-b92cacf475b7",
   "metadata": {},
   "outputs": [],
   "source": [
    "import pandas as pd\n",
    "import matplotlib.pyplot as plt\n",
    "import seaborn as sns"
   ]
  },
  {
   "cell_type": "code",
   "execution_count": null,
   "id": "ee3f5d95-9007-4752-945a-659cb1c905fe",
   "metadata": {},
   "outputs": [],
   "source": []
  },
  {
   "cell_type": "markdown",
   "id": "387816b4-bde5-471d-ab66-d3aff0366d4b",
   "metadata": {},
   "source": [
    "# Reading File"
   ]
  },
  {
   "cell_type": "code",
   "execution_count": 9,
   "id": "4295b96f-c576-4e13-807c-1ed9dfdf99e3",
   "metadata": {},
   "outputs": [],
   "source": [
    "df = pd.read_csv(r\"E:\\Youtube project\\daily_trending_videos.csv\")"
   ]
  },
  {
   "cell_type": "code",
   "execution_count": null,
   "id": "038d86c3-3345-49fa-b683-6ab2e50ff299",
   "metadata": {},
   "outputs": [],
   "source": []
  },
  {
   "cell_type": "markdown",
   "id": "f4c02fd6-9f3d-4a50-903a-d4aac9640c42",
   "metadata": {},
   "source": [
    "# Checking Structure"
   ]
  },
  {
   "cell_type": "code",
   "execution_count": 12,
   "id": "ab54613f-6c38-4fb7-9116-dbe417ab4720",
   "metadata": {},
   "outputs": [
    {
     "name": "stdout",
     "output_type": "stream",
     "text": [
      "<class 'pandas.core.frame.DataFrame'>\n",
      "RangeIndex: 600183 entries, 0 to 600182\n",
      "Data columns (total 9 columns):\n",
      " #   Column        Non-Null Count   Dtype \n",
      "---  ------        --------------   ----- \n",
      " 0   video_id      600183 non-null  object\n",
      " 1   title         600183 non-null  object\n",
      " 2   channel       600183 non-null  object\n",
      " 3   country       600183 non-null  object\n",
      " 4   views         600183 non-null  int64 \n",
      " 5   likes         600183 non-null  int64 \n",
      " 6   comments      600183 non-null  int64 \n",
      " 7   published_at  600183 non-null  object\n",
      " 8   fetch_date    600183 non-null  object\n",
      "dtypes: int64(3), object(6)\n",
      "memory usage: 41.2+ MB\n"
     ]
    }
   ],
   "source": [
    "df.info()  "
   ]
  },
  {
   "cell_type": "code",
   "execution_count": 14,
   "id": "3f3205e0-b412-40d5-9418-995816c09d68",
   "metadata": {},
   "outputs": [
    {
     "data": {
      "text/html": [
       "<div>\n",
       "<style scoped>\n",
       "    .dataframe tbody tr th:only-of-type {\n",
       "        vertical-align: middle;\n",
       "    }\n",
       "\n",
       "    .dataframe tbody tr th {\n",
       "        vertical-align: top;\n",
       "    }\n",
       "\n",
       "    .dataframe thead th {\n",
       "        text-align: right;\n",
       "    }\n",
       "</style>\n",
       "<table border=\"1\" class=\"dataframe\">\n",
       "  <thead>\n",
       "    <tr style=\"text-align: right;\">\n",
       "      <th></th>\n",
       "      <th>video_id</th>\n",
       "      <th>title</th>\n",
       "      <th>channel</th>\n",
       "      <th>country</th>\n",
       "      <th>views</th>\n",
       "      <th>likes</th>\n",
       "      <th>comments</th>\n",
       "      <th>published_at</th>\n",
       "      <th>fetch_date</th>\n",
       "    </tr>\n",
       "  </thead>\n",
       "  <tbody>\n",
       "    <tr>\n",
       "      <th>0</th>\n",
       "      <td>KDorKy-13ak</td>\n",
       "      <td>Kendrick Lamar's Apple Music Super Bowl Halfti...</td>\n",
       "      <td>NFL</td>\n",
       "      <td>US</td>\n",
       "      <td>33079510</td>\n",
       "      <td>1633864</td>\n",
       "      <td>98574</td>\n",
       "      <td>2025-02-10T03:22:55Z</td>\n",
       "      <td>2025-02-11 17:43:34</td>\n",
       "    </tr>\n",
       "    <tr>\n",
       "      <th>1</th>\n",
       "      <td>lI4dq7ffQy0</td>\n",
       "      <td>Kendrick Lamar Disses Drake During Halftime Sh...</td>\n",
       "      <td>E! News</td>\n",
       "      <td>US</td>\n",
       "      <td>1475936</td>\n",
       "      <td>12629</td>\n",
       "      <td>5126</td>\n",
       "      <td>2025-02-10T03:27:44Z</td>\n",
       "      <td>2025-02-11 17:43:34</td>\n",
       "    </tr>\n",
       "    <tr>\n",
       "      <th>2</th>\n",
       "      <td>Y5vgBxUuNlc</td>\n",
       "      <td>JAZZ at LAKERS | FULL GAME HIGHLIGHTS | Februa...</td>\n",
       "      <td>NBA</td>\n",
       "      <td>US</td>\n",
       "      <td>1841263</td>\n",
       "      <td>31666</td>\n",
       "      <td>2906</td>\n",
       "      <td>2025-02-11T06:12:20Z</td>\n",
       "      <td>2025-02-11 17:43:34</td>\n",
       "    </tr>\n",
       "    <tr>\n",
       "      <th>3</th>\n",
       "      <td>hUUszE29jS0</td>\n",
       "      <td>Marvel Studios’ Thunderbolts* | Big Game Trail...</td>\n",
       "      <td>Marvel Entertainment</td>\n",
       "      <td>US</td>\n",
       "      <td>9893431</td>\n",
       "      <td>204063</td>\n",
       "      <td>13864</td>\n",
       "      <td>2025-02-09T23:54:00Z</td>\n",
       "      <td>2025-02-11 17:43:34</td>\n",
       "    </tr>\n",
       "    <tr>\n",
       "      <th>4</th>\n",
       "      <td>jdX5xwV829s</td>\n",
       "      <td>The First Kiss in Brawl Stars!?</td>\n",
       "      <td>Brawl Stars</td>\n",
       "      <td>US</td>\n",
       "      <td>8354717</td>\n",
       "      <td>257108</td>\n",
       "      <td>17632</td>\n",
       "      <td>2025-02-10T08:58:00Z</td>\n",
       "      <td>2025-02-11 17:43:34</td>\n",
       "    </tr>\n",
       "  </tbody>\n",
       "</table>\n",
       "</div>"
      ],
      "text/plain": [
       "      video_id                                              title  \\\n",
       "0  KDorKy-13ak  Kendrick Lamar's Apple Music Super Bowl Halfti...   \n",
       "1  lI4dq7ffQy0  Kendrick Lamar Disses Drake During Halftime Sh...   \n",
       "2  Y5vgBxUuNlc  JAZZ at LAKERS | FULL GAME HIGHLIGHTS | Februa...   \n",
       "3  hUUszE29jS0  Marvel Studios’ Thunderbolts* | Big Game Trail...   \n",
       "4  jdX5xwV829s                    The First Kiss in Brawl Stars!?   \n",
       "\n",
       "                channel country     views    likes  comments  \\\n",
       "0                   NFL      US  33079510  1633864     98574   \n",
       "1               E! News      US   1475936    12629      5126   \n",
       "2                   NBA      US   1841263    31666      2906   \n",
       "3  Marvel Entertainment      US   9893431   204063     13864   \n",
       "4           Brawl Stars      US   8354717   257108     17632   \n",
       "\n",
       "           published_at           fetch_date  \n",
       "0  2025-02-10T03:22:55Z  2025-02-11 17:43:34  \n",
       "1  2025-02-10T03:27:44Z  2025-02-11 17:43:34  \n",
       "2  2025-02-11T06:12:20Z  2025-02-11 17:43:34  \n",
       "3  2025-02-09T23:54:00Z  2025-02-11 17:43:34  \n",
       "4  2025-02-10T08:58:00Z  2025-02-11 17:43:34  "
      ]
     },
     "execution_count": 14,
     "metadata": {},
     "output_type": "execute_result"
    }
   ],
   "source": [
    "df.head()   # checking top 5 values"
   ]
  },
  {
   "cell_type": "code",
   "execution_count": 16,
   "id": "c2196714-3614-4284-92ac-d031dcc9c1c0",
   "metadata": {},
   "outputs": [
    {
     "data": {
      "text/plain": [
       "(600183, 9)"
      ]
     },
     "execution_count": 16,
     "metadata": {},
     "output_type": "execute_result"
    }
   ],
   "source": [
    "df.shape     #checking total no. of rows and columns"
   ]
  },
  {
   "cell_type": "code",
   "execution_count": 18,
   "id": "e65c1f03-6840-44a9-bdd8-2d6ba806eadb",
   "metadata": {},
   "outputs": [
    {
     "data": {
      "text/plain": [
       "Index(['video_id', 'title', 'channel', 'country', 'views', 'likes', 'comments',\n",
       "       'published_at', 'fetch_date'],\n",
       "      dtype='object')"
      ]
     },
     "execution_count": 18,
     "metadata": {},
     "output_type": "execute_result"
    }
   ],
   "source": [
    "df.columns  # checking name of columns"
   ]
  },
  {
   "cell_type": "code",
   "execution_count": 20,
   "id": "ed5cdf59-70ab-457b-a870-aa5780924afd",
   "metadata": {},
   "outputs": [
    {
     "data": {
      "text/html": [
       "<div>\n",
       "<style scoped>\n",
       "    .dataframe tbody tr th:only-of-type {\n",
       "        vertical-align: middle;\n",
       "    }\n",
       "\n",
       "    .dataframe tbody tr th {\n",
       "        vertical-align: top;\n",
       "    }\n",
       "\n",
       "    .dataframe thead th {\n",
       "        text-align: right;\n",
       "    }\n",
       "</style>\n",
       "<table border=\"1\" class=\"dataframe\">\n",
       "  <thead>\n",
       "    <tr style=\"text-align: right;\">\n",
       "      <th></th>\n",
       "      <th>video_id</th>\n",
       "      <th>title</th>\n",
       "      <th>channel</th>\n",
       "      <th>country</th>\n",
       "      <th>views</th>\n",
       "      <th>likes</th>\n",
       "      <th>comments</th>\n",
       "      <th>published_at</th>\n",
       "      <th>fetch_date</th>\n",
       "    </tr>\n",
       "  </thead>\n",
       "  <tbody>\n",
       "    <tr>\n",
       "      <th>0</th>\n",
       "      <td>KDorKy-13ak</td>\n",
       "      <td>Kendrick Lamar's Apple Music Super Bowl Halfti...</td>\n",
       "      <td>NFL</td>\n",
       "      <td>US</td>\n",
       "      <td>33079510</td>\n",
       "      <td>1633864</td>\n",
       "      <td>98574</td>\n",
       "      <td>2025-02-10T03:22:55Z</td>\n",
       "      <td>2025-02-11 17:43:34</td>\n",
       "    </tr>\n",
       "    <tr>\n",
       "      <th>1</th>\n",
       "      <td>lI4dq7ffQy0</td>\n",
       "      <td>Kendrick Lamar Disses Drake During Halftime Sh...</td>\n",
       "      <td>E! News</td>\n",
       "      <td>US</td>\n",
       "      <td>1475936</td>\n",
       "      <td>12629</td>\n",
       "      <td>5126</td>\n",
       "      <td>2025-02-10T03:27:44Z</td>\n",
       "      <td>2025-02-11 17:43:34</td>\n",
       "    </tr>\n",
       "    <tr>\n",
       "      <th>2</th>\n",
       "      <td>Y5vgBxUuNlc</td>\n",
       "      <td>JAZZ at LAKERS | FULL GAME HIGHLIGHTS | Februa...</td>\n",
       "      <td>NBA</td>\n",
       "      <td>US</td>\n",
       "      <td>1841263</td>\n",
       "      <td>31666</td>\n",
       "      <td>2906</td>\n",
       "      <td>2025-02-11T06:12:20Z</td>\n",
       "      <td>2025-02-11 17:43:34</td>\n",
       "    </tr>\n",
       "    <tr>\n",
       "      <th>3</th>\n",
       "      <td>hUUszE29jS0</td>\n",
       "      <td>Marvel Studios’ Thunderbolts* | Big Game Trail...</td>\n",
       "      <td>Marvel Entertainment</td>\n",
       "      <td>US</td>\n",
       "      <td>9893431</td>\n",
       "      <td>204063</td>\n",
       "      <td>13864</td>\n",
       "      <td>2025-02-09T23:54:00Z</td>\n",
       "      <td>2025-02-11 17:43:34</td>\n",
       "    </tr>\n",
       "    <tr>\n",
       "      <th>4</th>\n",
       "      <td>jdX5xwV829s</td>\n",
       "      <td>The First Kiss in Brawl Stars!?</td>\n",
       "      <td>Brawl Stars</td>\n",
       "      <td>US</td>\n",
       "      <td>8354717</td>\n",
       "      <td>257108</td>\n",
       "      <td>17632</td>\n",
       "      <td>2025-02-10T08:58:00Z</td>\n",
       "      <td>2025-02-11 17:43:34</td>\n",
       "    </tr>\n",
       "  </tbody>\n",
       "</table>\n",
       "</div>"
      ],
      "text/plain": [
       "      video_id                                              title  \\\n",
       "0  KDorKy-13ak  Kendrick Lamar's Apple Music Super Bowl Halfti...   \n",
       "1  lI4dq7ffQy0  Kendrick Lamar Disses Drake During Halftime Sh...   \n",
       "2  Y5vgBxUuNlc  JAZZ at LAKERS | FULL GAME HIGHLIGHTS | Februa...   \n",
       "3  hUUszE29jS0  Marvel Studios’ Thunderbolts* | Big Game Trail...   \n",
       "4  jdX5xwV829s                    The First Kiss in Brawl Stars!?   \n",
       "\n",
       "                channel country     views    likes  comments  \\\n",
       "0                   NFL      US  33079510  1633864     98574   \n",
       "1               E! News      US   1475936    12629      5126   \n",
       "2                   NBA      US   1841263    31666      2906   \n",
       "3  Marvel Entertainment      US   9893431   204063     13864   \n",
       "4           Brawl Stars      US   8354717   257108     17632   \n",
       "\n",
       "           published_at           fetch_date  \n",
       "0  2025-02-10T03:22:55Z  2025-02-11 17:43:34  \n",
       "1  2025-02-10T03:27:44Z  2025-02-11 17:43:34  \n",
       "2  2025-02-11T06:12:20Z  2025-02-11 17:43:34  \n",
       "3  2025-02-09T23:54:00Z  2025-02-11 17:43:34  \n",
       "4  2025-02-10T08:58:00Z  2025-02-11 17:43:34  "
      ]
     },
     "execution_count": 20,
     "metadata": {},
     "output_type": "execute_result"
    }
   ],
   "source": [
    "df.head()"
   ]
  },
  {
   "cell_type": "code",
   "execution_count": null,
   "id": "fe30946f-10c2-4b61-b2e7-a37d198131a4",
   "metadata": {},
   "outputs": [],
   "source": []
  },
  {
   "cell_type": "markdown",
   "id": "f35da07c-f6c3-4276-817a-1615bffe1a7e",
   "metadata": {},
   "source": [
    "# Converting to datetime"
   ]
  },
  {
   "cell_type": "code",
   "execution_count": 23,
   "id": "b91c6dfa-ed2e-43d7-9a3d-6634516205b9",
   "metadata": {},
   "outputs": [],
   "source": [
    "\n",
    "\n",
    "df['published_at'] = pd.to_datetime(df['published_at'], errors='coerce')\n",
    "df['fetch_date'] = pd.to_datetime(df['fetch_date'], errors='coerce')"
   ]
  },
  {
   "cell_type": "code",
   "execution_count": 25,
   "id": "4fdfc102-6519-4570-81cb-16e33977f30b",
   "metadata": {},
   "outputs": [
    {
     "name": "stdout",
     "output_type": "stream",
     "text": [
      "<class 'pandas.core.frame.DataFrame'>\n",
      "RangeIndex: 600183 entries, 0 to 600182\n",
      "Data columns (total 9 columns):\n",
      " #   Column        Non-Null Count   Dtype              \n",
      "---  ------        --------------   -----              \n",
      " 0   video_id      600183 non-null  object             \n",
      " 1   title         600183 non-null  object             \n",
      " 2   channel       600183 non-null  object             \n",
      " 3   country       600183 non-null  object             \n",
      " 4   views         600183 non-null  int64              \n",
      " 5   likes         600183 non-null  int64              \n",
      " 6   comments      600183 non-null  int64              \n",
      " 7   published_at  600183 non-null  datetime64[ns, UTC]\n",
      " 8   fetch_date    600183 non-null  datetime64[ns]     \n",
      "dtypes: datetime64[ns, UTC](1), datetime64[ns](1), int64(3), object(4)\n",
      "memory usage: 41.2+ MB\n"
     ]
    }
   ],
   "source": [
    "df.info()  "
   ]
  },
  {
   "cell_type": "code",
   "execution_count": null,
   "id": "07b07e48-dace-4199-ac88-c8ea009010ac",
   "metadata": {},
   "outputs": [],
   "source": []
  },
  {
   "cell_type": "markdown",
   "id": "e324677d-233e-4453-b341-bc078977ebff",
   "metadata": {},
   "source": [
    "# Checking for duplicates"
   ]
  },
  {
   "cell_type": "code",
   "execution_count": 28,
   "id": "ecdae672-48a6-4b9d-bc21-724af65156e1",
   "metadata": {},
   "outputs": [
    {
     "name": "stdout",
     "output_type": "stream",
     "text": [
      "Duplicate Rows: 0\n"
     ]
    }
   ],
   "source": [
    "\n",
    "\n",
    "print('Duplicate Rows:', df.duplicated().sum())\n"
   ]
  },
  {
   "cell_type": "code",
   "execution_count": null,
   "id": "cb6c1c45-685e-4450-b1f5-fb62a5c2426c",
   "metadata": {},
   "outputs": [],
   "source": []
  },
  {
   "cell_type": "markdown",
   "id": "a7a9d861-7cba-44af-b004-4c2b1d6445c9",
   "metadata": {},
   "source": [
    "# Checking for null values"
   ]
  },
  {
   "cell_type": "code",
   "execution_count": 31,
   "id": "db1b0309-841e-4db0-9622-5d4c3185ba3c",
   "metadata": {},
   "outputs": [
    {
     "name": "stdout",
     "output_type": "stream",
     "text": [
      "Missing Values:\n",
      " video_id        0\n",
      "title           0\n",
      "channel         0\n",
      "country         0\n",
      "views           0\n",
      "likes           0\n",
      "comments        0\n",
      "published_at    0\n",
      "fetch_date      0\n",
      "dtype: int64\n"
     ]
    }
   ],
   "source": [
    "\n",
    "\n",
    "print('Missing Values:\\n', df.isnull().sum())"
   ]
  },
  {
   "cell_type": "code",
   "execution_count": null,
   "id": "a372b424-211e-4215-9f42-3030e0aa32be",
   "metadata": {},
   "outputs": [],
   "source": []
  },
  {
   "cell_type": "markdown",
   "id": "3bfd743d-ebcd-4daf-8e86-3275ec63a640",
   "metadata": {},
   "source": [
    "#  Basic Statistics"
   ]
  },
  {
   "cell_type": "code",
   "execution_count": 34,
   "id": "715e3117-6a1c-4afc-8d57-a491b14ba41a",
   "metadata": {},
   "outputs": [
    {
     "name": "stdout",
     "output_type": "stream",
     "text": [
      "Total Videos: 46610\n"
     ]
    }
   ],
   "source": [
    "print('Total Videos:', df['video_id'].nunique())\n"
   ]
  },
  {
   "cell_type": "code",
   "execution_count": 36,
   "id": "ce44abe9-1516-4458-8ca6-b832dce0a231",
   "metadata": {},
   "outputs": [
    {
     "name": "stdout",
     "output_type": "stream",
     "text": [
      "Total Channels: 15885\n"
     ]
    }
   ],
   "source": [
    "print('Total Channels:', df['channel'].nunique())\n"
   ]
  },
  {
   "cell_type": "code",
   "execution_count": 38,
   "id": "16068c8f-13b4-4f14-89aa-a4eb7f85147a",
   "metadata": {},
   "outputs": [
    {
     "name": "stdout",
     "output_type": "stream",
     "text": [
      "Total Countries: 93\n"
     ]
    }
   ],
   "source": [
    "print('Total Countries:', df['country'].nunique())\n"
   ]
  },
  {
   "cell_type": "code",
   "execution_count": 40,
   "id": "7ede4908-c29e-497a-b01d-a539653fb4f8",
   "metadata": {},
   "outputs": [
    {
     "name": "stdout",
     "output_type": "stream",
     "text": [
      "              views         likes       comments\n",
      "count  6.001830e+05  6.001830e+05  600183.000000\n",
      "mean   1.312603e+07  3.842454e+05    5810.557225\n",
      "std    2.654302e+07  8.202271e+05   23351.828279\n",
      "min    0.000000e+00  0.000000e+00       0.000000\n",
      "25%    5.596510e+05  1.651300e+04     454.000000\n",
      "50%    2.071240e+06  6.836000e+04    1461.000000\n",
      "75%    1.176827e+07  3.439970e+05    3939.000000\n",
      "max    3.160123e+08  1.087292e+07  550214.000000\n"
     ]
    }
   ],
   "source": [
    "print(df[['views', 'likes', 'comments']].describe())"
   ]
  },
  {
   "cell_type": "code",
   "execution_count": null,
   "id": "7fd3b2de-331e-45c0-a323-39be06bd97e3",
   "metadata": {},
   "outputs": [],
   "source": []
  }
 ],
 "metadata": {
  "kernelspec": {
   "display_name": "Python [conda env:base] *",
   "language": "python",
   "name": "conda-base-py"
  },
  "language_info": {
   "codemirror_mode": {
    "name": "ipython",
    "version": 3
   },
   "file_extension": ".py",
   "mimetype": "text/x-python",
   "name": "python",
   "nbconvert_exporter": "python",
   "pygments_lexer": "ipython3",
   "version": "3.12.7"
  }
 },
 "nbformat": 4,
 "nbformat_minor": 5
}
